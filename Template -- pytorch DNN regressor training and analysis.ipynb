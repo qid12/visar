{
 "cells": [
  {
   "cell_type": "code",
   "execution_count": null,
   "metadata": {
    "collapsed": true
   },
   "outputs": [],
   "source": [
    "import os\n",
    "os.environ['CUDA_VISIBLE_DEVICES']='1'"
   ]
  },
  {
   "cell_type": "markdown",
   "metadata": {},
   "source": [
    "## hyperparameter screening\n",
    "The hyperparam_screening would return the best parameter dictionary.\n",
    "Users could also check the performances recorded in the log file and manually pick the best param."
   ]
  },
  {
   "cell_type": "code",
   "execution_count": null,
   "metadata": {
    "collapsed": true
   },
   "outputs": [],
   "source": [
    "task_names = ['T8', 'T9']\n",
    "\n",
    "para_dict_DNN = {\n",
    "    'model_name': 'VISAR_pytorch_demo',  # user specific\n",
    "    'task_list': task_names,  # MUST BE A LIST!\n",
    "    # input data related params:\n",
    "    'dataset_file': './data/Kinase_tot_4deepchem_processed.csv',\n",
    "    'feature_type': 'Morgan',\n",
    "    'id_field': 'molregno',\n",
    "    'smiles_field': 'cano_smiles',  #\n",
    "    'add_features': None,\n",
    "    'frac_train': 0.9,\n",
    "    'rand_seed': 0,\n",
    "    'batch_size': 100,\n",
    "    'normalize': True,\n",
    "    # model architecture related parameters:\n",
    "    'layer_nodes': [256, 128, len(task_names)], #\n",
    "    'dropouts': 0.3,\n",
    "    # model training related parameters:\n",
    "    'learning_rate': 0.001,\n",
    "    'GPU': True,\n",
    "    'epoch': 100, # training epoch of each round (saving model at the end of each round)\n",
    "    'epoch_num': 5, # how many rounds\n",
    "    'optimizer': 'Adam',\n",
    "    # viz file processing related parameters:\n",
    "    'model_architecture': 'ST',\n",
    "    'hidden_layer': 1\n",
    "}"
   ]
  },
  {
   "cell_type": "code",
   "execution_count": null,
   "metadata": {
    "collapsed": true
   },
   "outputs": [],
   "source": [
    "from visar.utils.pytorch_functions import hyperparam_screening\n",
    "import os\n",
    "os.chdir('/working/directory/')  # user specified\n",
    "\n",
    "import copy\n",
    "from collections import OrderedDict\n",
    "from visar.dataloader.pytorch_utils import compound_FP_loader\n",
    "from visar.pytorch_regressor import pytorch_DNN_model\n",
    "\n",
    "candidate_params_dict = OrderedDict([('layer_nodes', [[256,128,1], [512,64,1], \n",
    "                                                      [512,128,1], [512,265,1]]),\n",
    "                                     ('dropouts', [0.2, 0.4]),\n",
    "                                     ('learning_rate', [0.01, 0.001])])"
   ]
  },
  {
   "cell_type": "code",
   "execution_count": null,
   "metadata": {
    "collapsed": true
   },
   "outputs": [],
   "source": [
    "best_param = hyperparam_screening(pytorch_DNN_model, para_dict_DNN, candidate_params_dict, \n",
    "                     mode = 'grid_search', epoch = 10, epoch_num = 2)"
   ]
  },
  {
   "cell_type": "markdown",
   "metadata": {},
   "source": [
    "## Model training"
   ]
  },
  {
   "cell_type": "code",
   "execution_count": null,
   "metadata": {
    "collapsed": true
   },
   "outputs": [],
   "source": [
    "from visar.pytorch_regressor import pytorch_DNN_model\n",
    "from visar.dataloader.pytorch_utils import compound_FP_loader\n",
    "train_loader, test_loader, train_df, test_df, para_dict_DNN = compound_FP_loader(para_dict_DNN)\n"
   ]
  },
  {
   "cell_type": "code",
   "execution_count": null,
   "metadata": {
    "collapsed": true
   },
   "outputs": [],
   "source": [
    "pyDNN_model = pytorch_DNN_model(para_dict_DNN)\n",
    "pyDNN_model.model_init()\n",
    "pyDNN_model.model"
   ]
  },
  {
   "cell_type": "code",
   "execution_count": null,
   "metadata": {
    "collapsed": true
   },
   "outputs": [],
   "source": [
    "pyDNN_model.fit(train_loader, test_loader)"
   ]
  },
  {
   "cell_type": "markdown",
   "metadata": {},
   "source": [
    "## generate viz files"
   ]
  },
  {
   "cell_type": "code",
   "execution_count": null,
   "metadata": {
    "collapsed": true
   },
   "outputs": [],
   "source": [
    "from visar.dataloader.pytorch_utils import compound_FP_loader\n",
    "from visar.pytorch_regressor import pytorch_DNN_model\n",
    "\n",
    "# prepare custom dataloader\n",
    "custom_para_dict = {\n",
    "    'task_list': ['activity'],   # a dummy column of float\n",
    "    # input data related params:\n",
    "    'dataset_file': './data/binding_mode_notation.csv',\n",
    "    'feature_type': 'Morgan',\n",
    "    'id_field': 'cid',   #\n",
    "    'smiles_field': 'SMILES',  #\n",
    "    'model_flag':'ST',\n",
    "    'add_features': None,\n",
    "    'frac_train': 1,\n",
    "    'batch_size': 100,\n",
    "    'normalize': False\n",
    "}\n",
    "\n",
    "custom_loader, custom_df, custom_para_dict = compound_FP_loader(custom_para_dict)"
   ]
  },
  {
   "cell_type": "code",
   "execution_count": null,
   "metadata": {
    "collapsed": true
   },
   "outputs": [],
   "source": [
    "# load previous model\n",
    "import json\n",
    "para_dict_DNN = json.load(open('./logs/VISAR_pytorch_demo/train_parameters.json','r'))\n",
    "\n",
    "pyDNN_model = pytorch_DNN_model(para_dict_DNN)\n",
    "pyDNN_model.model_init()\n",
    "pyDNN_model.load_model()"
   ]
  },
  {
   "cell_type": "code",
   "execution_count": null,
   "metadata": {
    "collapsed": true
   },
   "outputs": [],
   "source": [
    "# load training data\n",
    "train_loader, test_loader, train_df, test_df, para_dict_DNN = compound_FP_loader(para_dict_DNN,\n",
    "                                                                                max_cutoff = 8000)"
   ]
  },
  {
   "cell_type": "code",
   "execution_count": null,
   "metadata": {
    "collapsed": true
   },
   "outputs": [],
   "source": [
    "pyDNN_model.para_dict['custom_id_field'] = custom_para_dict['id_field']\n",
    "pyDNN_model.para_dict['custom_smiles_field'] = custom_para_dict['smiles_field']\n",
    "pyDNN_model.para_dict['hidden_layer'] = 2\n",
    "pyDNN_model.para_dict['model_architecture'] = 'RobustMT'\n",
    "pyDNN_model.generate_viz_results(train_loader, train_df, 'KLIFS_global750_MT_rep3',\n",
    "                           custom_loader = custom_loader, \n",
    "                           custom_df = custom_df)"
   ]
  }
 ],
 "metadata": {
  "kernelspec": {
   "display_name": "pytorch",
   "language": "python",
   "name": "pytorch"
  },
  "language_info": {
   "codemirror_mode": {
    "name": "ipython",
    "version": 3
   },
   "file_extension": ".py",
   "mimetype": "text/x-python",
   "name": "python",
   "nbconvert_exporter": "python",
   "pygments_lexer": "ipython3",
   "version": "3.7.4"
  },
  "toc": {
   "base_numbering": 1,
   "nav_menu": {},
   "number_sections": true,
   "sideBar": true,
   "skip_h1_title": false,
   "title_cell": "Table of Contents",
   "title_sidebar": "Contents",
   "toc_cell": false,
   "toc_position": {},
   "toc_section_display": true,
   "toc_window_display": false
  },
  "varInspector": {
   "cols": {
    "lenName": 16,
    "lenType": 16,
    "lenVar": 40
   },
   "kernels_config": {
    "python": {
     "delete_cmd_postfix": "",
     "delete_cmd_prefix": "del ",
     "library": "var_list.py",
     "varRefreshCmd": "print(var_dic_list())"
    },
    "r": {
     "delete_cmd_postfix": ") ",
     "delete_cmd_prefix": "rm(",
     "library": "var_list.r",
     "varRefreshCmd": "cat(var_dic_list()) "
    }
   },
   "types_to_exclude": [
    "module",
    "function",
    "builtin_function_or_method",
    "instance",
    "_Feature"
   ],
   "window_display": false
  }
 },
 "nbformat": 4,
 "nbformat_minor": 2
}

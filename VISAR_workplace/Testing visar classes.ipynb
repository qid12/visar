{
 "cells": [
  {
   "cell_type": "markdown",
   "metadata": {},
   "source": [
    "## Deepchem DataLoader"
   ]
  },
  {
   "cell_type": "code",
   "execution_count": 1,
   "metadata": {
    "ExecuteTime": {
     "end_time": "2020-02-18T06:54:02.587749Z",
     "start_time": "2020-02-18T06:53:59.606373Z"
    },
    "collapsed": true
   },
   "outputs": [
    {
     "name": "stderr",
     "output_type": "stream",
     "text": [
      "RDKit WARNING: [21:23:26] Enabling RDKit 2019.09.1 jupyter extensions\n",
      "/home/dqy14/miniconda3/envs/deepchem_visar/lib/python3.6/site-packages/sklearn/externals/joblib/__init__.py:15: DeprecationWarning: sklearn.externals.joblib is deprecated in 0.21 and will be removed in 0.23. Please import this functionality directly from joblib, which can be installed with: pip install joblib. If this warning is raised when loading pickled models, you may need to re-serialize those models with scikit-learn 0.21+.\n",
      "  warnings.warn(msg, category=DeprecationWarning)\n",
      "/home/dqy14/miniconda3/envs/deepchem_visar/lib/python3.6/site-packages/tensorflow/python/framework/dtypes.py:523: FutureWarning: Passing (type, 1) or '1type' as a synonym of type is deprecated; in a future version of numpy, it will be understood as (type, (1,)) / '(1,)type'.\n",
      "  _np_qint8 = np.dtype([(\"qint8\", np.int8, 1)])\n",
      "/home/dqy14/miniconda3/envs/deepchem_visar/lib/python3.6/site-packages/tensorflow/python/framework/dtypes.py:524: FutureWarning: Passing (type, 1) or '1type' as a synonym of type is deprecated; in a future version of numpy, it will be understood as (type, (1,)) / '(1,)type'.\n",
      "  _np_quint8 = np.dtype([(\"quint8\", np.uint8, 1)])\n",
      "/home/dqy14/miniconda3/envs/deepchem_visar/lib/python3.6/site-packages/tensorflow/python/framework/dtypes.py:525: FutureWarning: Passing (type, 1) or '1type' as a synonym of type is deprecated; in a future version of numpy, it will be understood as (type, (1,)) / '(1,)type'.\n",
      "  _np_qint16 = np.dtype([(\"qint16\", np.int16, 1)])\n",
      "/home/dqy14/miniconda3/envs/deepchem_visar/lib/python3.6/site-packages/tensorflow/python/framework/dtypes.py:526: FutureWarning: Passing (type, 1) or '1type' as a synonym of type is deprecated; in a future version of numpy, it will be understood as (type, (1,)) / '(1,)type'.\n",
      "  _np_quint16 = np.dtype([(\"quint16\", np.uint16, 1)])\n",
      "/home/dqy14/miniconda3/envs/deepchem_visar/lib/python3.6/site-packages/tensorflow/python/framework/dtypes.py:527: FutureWarning: Passing (type, 1) or '1type' as a synonym of type is deprecated; in a future version of numpy, it will be understood as (type, (1,)) / '(1,)type'.\n",
      "  _np_qint32 = np.dtype([(\"qint32\", np.int32, 1)])\n",
      "/home/dqy14/miniconda3/envs/deepchem_visar/lib/python3.6/site-packages/tensorflow/python/framework/dtypes.py:532: FutureWarning: Passing (type, 1) or '1type' as a synonym of type is deprecated; in a future version of numpy, it will be understood as (type, (1,)) / '(1,)type'.\n",
      "  np_resource = np.dtype([(\"resource\", np.ubyte, 1)])\n"
     ]
    }
   ],
   "source": [
    "from visar.deepchem_utils import prepare_dataset"
   ]
  },
  {
   "cell_type": "code",
   "execution_count": 2,
   "metadata": {
    "ExecuteTime": {
     "end_time": "2020-02-18T06:24:59.673864Z",
     "start_time": "2020-02-18T06:24:59.667897Z"
    }
   },
   "outputs": [],
   "source": [
    "para_dict_visar = {\n",
    "    'model_name': 'baseline_reg',\n",
    "    'task_list': ['T107'],\n",
    "    'eval_type': 'regression',\n",
    "    # input data related params:\n",
    "    'dataset_file': './data/MT_data_clean_June28.csv',\n",
    "    'feature_type': 'Circular_2048',\n",
    "    'id_field': 'molregno',\n",
    "    'smiles_field': 'salt_removed_smi',\n",
    "    'model_flag': 'MT',\n",
    "    'add_features': None,\n",
    "    'frac_train': 0.8,\n",
    "    'rand_seed': 0,\n",
    "    # model architecture related parameters:\n",
    "    'baseline_type': 'RidgeCV'\n",
    "}"
   ]
  },
  {
   "cell_type": "code",
   "execution_count": 3,
   "metadata": {
    "ExecuteTime": {
     "end_time": "2020-02-18T06:25:21.981738Z",
     "start_time": "2020-02-18T06:25:02.041784Z"
    }
   },
   "outputs": [
    {
     "name": "stderr",
     "output_type": "stream",
     "text": [
      "/home/dqy14/miniconda3/envs/deepchem_visar/lib/python3.6/site-packages/IPython/core/interactiveshell.py:3249: DtypeWarning: Columns (767) have mixed types. Specify dtype option on import or set low_memory=False.\n",
      "  if (await self.run_code(code, result,  async_=asy)):\n"
     ]
    },
    {
     "name": "stdout",
     "output_type": "stream",
     "text": [
      "Extracted dataset shape: (2951, 3)\n",
      "Loading raw samples now.\n",
      "shard_size: 8192\n",
      "About to start loading CSV from tmp.csv\n",
      "Loading shard 1 of size 8192.\n",
      "Featurizing sample 0\n",
      "Featurizing sample 1000\n",
      "Featurizing sample 2000\n",
      "TIMING: featurizing shard 0 took 14.519 s\n",
      "TIMING: dataset construction took 14.705 s\n",
      "Loading dataset from disk.\n",
      "Computing train/valid/test indices\n",
      "TIMING: dataset construction took 0.276 s\n",
      "Loading dataset from disk.\n",
      "TIMING: dataset construction took 0.135 s\n",
      "Loading dataset from disk.\n"
     ]
    }
   ],
   "source": [
    "train_loader, test_loader, train_df, test_df = prepare_dataset(para_dict_visar)"
   ]
  },
  {
   "cell_type": "code",
   "execution_count": 4,
   "metadata": {
    "ExecuteTime": {
     "end_time": "2020-02-18T06:25:33.046921Z",
     "start_time": "2020-02-18T06:25:32.818377Z"
    }
   },
   "outputs": [
    {
     "data": {
      "text/plain": [
       "((2360, 2048), (2360, 1), (2360, 3))"
      ]
     },
     "execution_count": 4,
     "metadata": {},
     "output_type": "execute_result"
    }
   ],
   "source": [
    "train_loader.X.shape, train_loader.y.shape, train_df.shape"
   ]
  },
  {
   "cell_type": "markdown",
   "metadata": {},
   "source": [
    "## baseline class"
   ]
  },
  {
   "cell_type": "code",
   "execution_count": 5,
   "metadata": {
    "ExecuteTime": {
     "end_time": "2020-02-18T06:27:30.249914Z",
     "start_time": "2020-02-18T06:27:30.238781Z"
    }
   },
   "outputs": [],
   "source": [
    "from visar.visar_utils import update_bicluster\n",
    "from visar.VISAR_model import visar_model"
   ]
  },
  {
   "cell_type": "code",
   "execution_count": 6,
   "metadata": {
    "ExecuteTime": {
     "end_time": "2020-02-18T06:29:02.444946Z",
     "start_time": "2020-02-18T06:28:57.716142Z"
    }
   },
   "outputs": [],
   "source": [
    "baseline_model = visar_model(para_dict_visar)\n",
    "baseline_model.model_init()\n",
    "baseline_model.fit(train_loader)"
   ]
  },
  {
   "cell_type": "code",
   "execution_count": 7,
   "metadata": {
    "ExecuteTime": {
     "end_time": "2020-02-18T06:29:55.281516Z",
     "start_time": "2020-02-18T06:29:55.275722Z"
    }
   },
   "outputs": [
    {
     "name": "stdout",
     "output_type": "stream",
     "text": [
      "[ 0.          0.          0.01549756 -0.01746509 -0.02464854 -0.09164208\n",
      " -0.00728953  0.          0.01267765 -0.01952459]\n"
     ]
    }
   ],
   "source": [
    "print(baseline_model.model.coef_[0:10])"
   ]
  },
  {
   "cell_type": "code",
   "execution_count": 8,
   "metadata": {
    "ExecuteTime": {
     "end_time": "2020-02-18T06:31:22.058799Z",
     "start_time": "2020-02-18T06:31:04.773651Z"
    }
   },
   "outputs": [
    {
     "name": "stdout",
     "output_type": "stream",
     "text": [
      "------------- Prepare information for chemicals ------------------\n",
      "------------- Prepare information for minibatches ------------------\n",
      "------------- Prepare information for tasks ------------------\n",
      "------- Generate color labels with default K of 5 --------\n",
      "-------------- Saving datasets ----------------\n"
     ]
    }
   ],
   "source": [
    "baseline_model.generate_viz_results(train_loader, train_df, '/ridgeCV_')"
   ]
  },
  {
   "cell_type": "code",
   "execution_count": 9,
   "metadata": {},
   "outputs": [],
   "source": [
    "baseline_model.generate_task_df()"
   ]
  },
  {
   "cell_type": "code",
   "execution_count": 10,
   "metadata": {},
   "outputs": [],
   "source": [
    "SMILES_test = train_df[para_dict_visar['smiles_field']].iloc[0]\n",
    "mol, _, _, atoms_contrib = baseline_model.generate_instance_analysis(smiles_string = SMILES_test)"
   ]
  },
  {
   "cell_type": "code",
   "execution_count": 11,
   "metadata": {},
   "outputs": [
    {
     "data": {
      "image/png": "[encoded data removed]",
      "text/plain": [
       "<rdkit.Chem.rdchem.Mol at 0x7f09151eee90>"
      ]
     },
     "execution_count": 11,
     "metadata": {},
     "output_type": "execute_result"
    }
   ],
   "source": [
    "mol"
   ]
  },
  {
   "cell_type": "markdown",
   "metadata": {},
   "source": [
    "## deepchem class"
   ]
  },
  {
   "cell_type": "code",
   "execution_count": 12,
   "metadata": {},
   "outputs": [],
   "source": [
    "from visar.deepchem_regressor import deepchem_robust_regressor"
   ]
  },
  {
   "cell_type": "code",
   "execution_count": 13,
   "metadata": {
    "ExecuteTime": {
     "end_time": "2020-02-18T06:54:08.127865Z",
     "start_time": "2020-02-18T06:54:08.119185Z"
    }
   },
   "outputs": [],
   "source": [
    "import os\n",
    "os.environ['CUDA_VISIBLE_DEVICES']='1'\n",
    "\n",
    "para_dict_DC_robustMT = {\n",
    "    'model_name': 'DC_RobustMT_reg',\n",
    "    'task_list': ['T107', 'T108'],\n",
    "    'eval_type': 'regression',\n",
    "    # input data related params:\n",
    "    'dataset_file': './data/MT_data_clean_June28.csv',\n",
    "    'feature_type': 'Circular_2048',\n",
    "    'id_field': 'molregno',\n",
    "    'smiles_field': 'salt_removed_smi',\n",
    "    'model_flag': 'MT',\n",
    "    'add_features': None,\n",
    "    'frac_train': 0.8,\n",
    "    'rand_seed': 0,\n",
    "    # model architecture related parameters:\n",
    "    'layer_sizes': [128, 64],\n",
    "    'bypass_layer_sizes': [64],\n",
    "    'dropouts': 0.5,\n",
    "    'bypass_dropouts': 0.5,\n",
    "    # model training related parameters:\n",
    "    'learning_rate': 0.001,\n",
    "    'GPU': False,\n",
    "    'epoch': 40, # training epoch of each round (saving model at the end of each round)\n",
    "    'epoch_num': 2, # how many rounds\n",
    "    # viz file processing related parameters:\n",
    "    'valid_cutoff': None, \n",
    "    'n_layer': 2\n",
    "}\n"
   ]
  },
  {
   "cell_type": "code",
   "execution_count": 14,
   "metadata": {
    "ExecuteTime": {
     "end_time": "2020-02-18T06:54:31.860282Z",
     "start_time": "2020-02-18T06:54:10.366726Z"
    }
   },
   "outputs": [
    {
     "name": "stderr",
     "output_type": "stream",
     "text": [
      "/home/dqy14/miniconda3/envs/deepchem_visar/lib/python3.6/site-packages/IPython/core/interactiveshell.py:3249: DtypeWarning: Columns (767) have mixed types. Specify dtype option on import or set low_memory=False.\n",
      "  if (await self.run_code(code, result,  async_=asy)):\n"
     ]
    },
    {
     "name": "stdout",
     "output_type": "stream",
     "text": [
      "Extracted dataset shape: (3471, 4)\n",
      "Loading raw samples now.\n",
      "shard_size: 8192\n",
      "About to start loading CSV from tmp.csv\n",
      "Loading shard 1 of size 8192.\n",
      "Featurizing sample 0\n",
      "Featurizing sample 1000\n",
      "Featurizing sample 2000\n",
      "Featurizing sample 3000\n",
      "TIMING: featurizing shard 0 took 17.686 s\n",
      "TIMING: dataset construction took 17.898 s\n",
      "Loading dataset from disk.\n",
      "Computing train/valid/test indices\n",
      "TIMING: dataset construction took 0.334 s\n",
      "Loading dataset from disk.\n",
      "TIMING: dataset construction took 0.154 s\n",
      "Loading dataset from disk.\n"
     ]
    }
   ],
   "source": [
    "train_loader, test_loader, train_df, test_df = prepare_dataset(para_dict_DC_robustMT)"
   ]
  },
  {
   "cell_type": "code",
   "execution_count": 15,
   "metadata": {
    "ExecuteTime": {
     "end_time": "2020-02-18T07:34:18.980231Z",
     "start_time": "2020-02-18T07:34:18.975370Z"
    }
   },
   "outputs": [],
   "source": [
    "robust_model = deepchem_robust_regressor(para_dict_DC_robustMT)"
   ]
  },
  {
   "cell_type": "code",
   "execution_count": 16,
   "metadata": {
    "ExecuteTime": {
     "end_time": "2020-02-18T07:34:20.940493Z",
     "start_time": "2020-02-18T07:34:20.710423Z"
    }
   },
   "outputs": [],
   "source": [
    "robust_model.model_init()"
   ]
  },
  {
   "cell_type": "code",
   "execution_count": null,
   "metadata": {
    "ExecuteTime": {
     "end_time": "2020-02-18T07:16:30.752215Z",
     "start_time": "2020-02-18T07:16:30.746213Z"
    }
   },
   "outputs": [],
   "source": [
    "print(robust_model.__repr__())"
   ]
  },
  {
   "cell_type": "code",
   "execution_count": null,
   "metadata": {
    "ExecuteTime": {
     "end_time": "2020-02-18T07:38:07.179892Z",
     "start_time": "2020-02-18T07:34:27.050617Z"
    }
   },
   "outputs": [],
   "source": [
    "robust_model.fit(train_loader, test_loader, restore_flag = False)"
   ]
  },
  {
   "cell_type": "code",
   "execution_count": 17,
   "metadata": {},
   "outputs": [
    {
     "name": "stdout",
     "output_type": "stream",
     "text": [
      "INFO:tensorflow:Restoring parameters from /home/dqy14/workplace/VISAR_workplace/logs/DC_RobustMT_reg/model/model-1120\n",
      "------------- Prepare information for chemicals ------------------\n",
      "------------- Prepare information for minibatches ------------------\n",
      "------------- Prepare information for tasks ------------------\n",
      "INFO:tensorflow:Restoring parameters from /home/dqy14/workplace/VISAR_workplace/logs/DC_RobustMT_reg/model/model-1120\n",
      "INFO:tensorflow:Restoring parameters from /home/dqy14/workplace/VISAR_workplace/logs/DC_RobustMT_reg/model/model-1120\n",
      "INFO:tensorflow:Restoring parameters from /home/dqy14/workplace/VISAR_workplace/logs/DC_RobustMT_reg/model/model-1120\n",
      "------- Generate color labels with default K of 5 --------\n",
      "-------------- Saving datasets ----------------\n"
     ]
    }
   ],
   "source": [
    "prev_model = robust_model.save_path + '/model-1120'\n",
    "robust_model.generate_viz_results(train_loader, train_df, \n",
    "                                  output_prefix = 'Robust_test', \n",
    "                                  prev_model = prev_model)"
   ]
  },
  {
   "cell_type": "code",
   "execution_count": 19,
   "metadata": {},
   "outputs": [
    {
     "name": "stdout",
     "output_type": "stream",
     "text": [
      "INFO:tensorflow:Restoring parameters from /home/dqy14/workplace/VISAR_workplace/logs/DC_RobustMT_reg/model/model-1120\n",
      "INFO:tensorflow:Restoring parameters from /home/dqy14/workplace/VISAR_workplace/logs/DC_RobustMT_reg/model/model-1120\n",
      "INFO:tensorflow:Restoring parameters from /home/dqy14/workplace/VISAR_workplace/logs/DC_RobustMT_reg/model/model-1120\n",
      "INFO:tensorflow:Restoring parameters from /home/dqy14/workplace/VISAR_workplace/logs/DC_RobustMT_reg/model/model-1120\n"
     ]
    }
   ],
   "source": [
    "prev_model = robust_model.save_path + '/model-1120'\n",
    "robust_model.load_model(prev_model)\n",
    "robust_model.generate_task_df(train_loader, prev_model)"
   ]
  },
  {
   "cell_type": "code",
   "execution_count": 20,
   "metadata": {},
   "outputs": [],
   "source": [
    "SMILES_test = train_df[para_dict_visar['smiles_field']].iloc[0]\n",
    "mol, _, _, atoms_contrib = robust_model.generate_instance_analysis(smiles_string = SMILES_test)"
   ]
  },
  {
   "cell_type": "code",
   "execution_count": 23,
   "metadata": {},
   "outputs": [
    {
     "data": {
      "text/plain": [
       "array([[ -4.1959902 ],\n",
       "       [ -5.42798206],\n",
       "       [-10.63990976],\n",
       "       [ -9.98688248],\n",
       "       [ -7.24205565],\n",
       "       [ -7.35544747],\n",
       "       [ -7.52360559],\n",
       "       [ -5.54949863],\n",
       "       [ -5.36070129],\n",
       "       [ -2.66119245],\n",
       "       [ -2.43954856],\n",
       "       [ -1.60418522],\n",
       "       [ -5.09264268],\n",
       "       [ -3.31626133],\n",
       "       [ -4.44165734],\n",
       "       [ -3.9726681 ]])"
      ]
     },
     "execution_count": 23,
     "metadata": {},
     "output_type": "execute_result"
    }
   ],
   "source": [
    "atoms_contrib['T108']"
   ]
  },
  {
   "cell_type": "code",
   "execution_count": null,
   "metadata": {},
   "outputs": [],
   "source": []
  },
  {
   "cell_type": "code",
   "execution_count": null,
   "metadata": {},
   "outputs": [],
   "source": []
  },
  {
   "cell_type": "code",
   "execution_count": null,
   "metadata": {},
   "outputs": [],
   "source": []
  },
  {
   "cell_type": "code",
   "execution_count": null,
   "metadata": {},
   "outputs": [],
   "source": []
  },
  {
   "cell_type": "code",
   "execution_count": null,
   "metadata": {
    "ExecuteTime": {
     "end_time": "2020-02-18T07:33:16.885974Z",
     "start_time": "2020-02-18T07:33:16.881226Z"
    }
   },
   "outputs": [],
   "source": [
    "import tensorflow as tf\n",
    "tf.test.is_gpu_available()"
   ]
  },
  {
   "cell_type": "code",
   "execution_count": null,
   "metadata": {
    "ExecuteTime": {
     "end_time": "2020-02-18T07:06:23.603402Z",
     "start_time": "2020-02-18T07:06:23.594770Z"
    },
    "scrolled": true
   },
   "outputs": [],
   "source": [
    "print(help(deepchem_robust_regressor))"
   ]
  }
 ],
 "metadata": {
  "kernelspec": {
   "display_name": "deepchem_visar",
   "language": "python",
   "name": "deepchem_visar"
  },
  "language_info": {
   "codemirror_mode": {
    "name": "ipython",
    "version": 3
   },
   "file_extension": ".py",
   "mimetype": "text/x-python",
   "name": "python",
   "nbconvert_exporter": "python",
   "pygments_lexer": "ipython3",
   "version": "3.6.7"
  },
  "toc": {
   "base_numbering": 1,
   "nav_menu": {},
   "number_sections": true,
   "sideBar": true,
   "skip_h1_title": false,
   "title_cell": "Table of Contents",
   "title_sidebar": "Contents",
   "toc_cell": false,
   "toc_position": {},
   "toc_section_display": true,
   "toc_window_display": false
  },
  "varInspector": {
   "cols": {
    "lenName": 16,
    "lenType": 16,
    "lenVar": 40
   },
   "kernels_config": {
    "python": {
     "delete_cmd_postfix": "",
     "delete_cmd_prefix": "del ",
     "library": "var_list.py",
     "varRefreshCmd": "print(var_dic_list())"
    },
    "r": {
     "delete_cmd_postfix": ") ",
     "delete_cmd_prefix": "rm(",
     "library": "var_list.r",
     "varRefreshCmd": "cat(var_dic_list()) "
    }
   },
   "types_to_exclude": [
    "module",
    "function",
    "builtin_function_or_method",
    "instance",
    "_Feature"
   ],
   "window_display": false
  }
 },
 "nbformat": 4,
 "nbformat_minor": 2
}

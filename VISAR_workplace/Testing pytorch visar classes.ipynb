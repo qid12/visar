{
 "cells": [
  {
   "cell_type": "markdown",
   "metadata": {},
   "source": [
    "## pytorch data loader"
   ]
  },
  {
   "cell_type": "code",
   "execution_count": null,
   "metadata": {
    "ExecuteTime": {
     "end_time": "2020-02-21T09:31:46.413466Z",
     "start_time": "2020-02-21T09:31:45.299731Z"
    },
    "collapsed": true
   },
   "outputs": [],
   "source": [
    "from visar.pytorch_utils import compound_FP_loader"
   ]
  },
  {
   "cell_type": "code",
   "execution_count": null,
   "metadata": {
    "ExecuteTime": {
     "end_time": "2020-02-21T09:31:48.372203Z",
     "start_time": "2020-02-21T09:31:48.365263Z"
    },
    "collapsed": true
   },
   "outputs": [],
   "source": [
    "para_dict = {\n",
    "    'model_name': 'pyDNN_reg',\n",
    "    'task_list': ['T107','T108'],\n",
    "    'eval_type': 'regression',\n",
    "    # input data related params:\n",
    "    'dataset_file': './data/MT_data_clean_June28.csv',\n",
    "    'feature_type': 'Morgan',\n",
    "    'id_field': 'molregno',\n",
    "    'smiles_field': 'salt_removed_smi',\n",
    "    'model_flag': 'MT',\n",
    "    'add_features': None,\n",
    "    'frac_train': 0.8,\n",
    "    'rand_seed': 0,\n",
    "    'batch_size': 100,\n",
    "    # model architecture related parameters:\n",
    "}"
   ]
  },
  {
   "cell_type": "code",
   "execution_count": null,
   "metadata": {
    "ExecuteTime": {
     "end_time": "2020-02-21T09:32:10.933191Z",
     "start_time": "2020-02-21T09:31:52.587328Z"
    }
   },
   "outputs": [],
   "source": [
    "train_loader, test_loader, train_df, test_df = compound_FP_loader(para_dict)"
   ]
  },
  {
   "cell_type": "code",
   "execution_count": null,
   "metadata": {
    "ExecuteTime": {
     "end_time": "2020-02-21T09:32:15.895367Z",
     "start_time": "2020-02-21T09:32:15.843309Z"
    },
    "collapsed": true
   },
   "outputs": [],
   "source": [
    "X, y, w, ids, smiles = next(iter(test_loader))"
   ]
  },
  {
   "cell_type": "markdown",
   "metadata": {
    "ExecuteTime": {
     "end_time": "2020-02-23T06:43:08.089878Z",
     "start_time": "2020-02-23T06:43:08.083254Z"
    }
   },
   "source": [
    "## pytorch data loader Attentive FP"
   ]
  },
  {
   "cell_type": "code",
   "execution_count": 1,
   "metadata": {
    "ExecuteTime": {
     "end_time": "2020-02-23T07:57:09.603397Z",
     "start_time": "2020-02-23T07:57:06.466276Z"
    },
    "collapsed": true
   },
   "outputs": [],
   "source": [
    "from visar.AttentiveFP_utils import feature_dict_loader\n",
    "para_dict = {\n",
    "    'model_name': 'Attentive_FP_reg',\n",
    "    'task_list':['T11409', 'T10612'],\n",
    "    # input data related params:\n",
    "    'dataset_file': './data/kinase_sample_data_new_processed.csv',\n",
    "    'feature_file': './data/kinase_sample_data_new.pickle.pickle',\n",
    "    'smiles_field': 'cano_smiles',\n",
    "    'id_field': 'molregno',\n",
    "    'num_atom_features': 39,\n",
    "    'num_bond_features': 10,\n",
    "    'model_flag': 'ST',\n",
    "    'add_features': None,\n",
    "    'frac_train': 0.8,\n",
    "    'rand_seed': 0,\n",
    "    'batch_size': 100,\n",
    "    # model architecture related parameters:\n",
    "    'radius': 2,\n",
    "    'T': 1,\n",
    "    'fingerprint_dim': 128,\n",
    "    'output_units_num': 2,\n",
    "    'dropouts': 0.4,\n",
    "    'batch_normalization': True,    \n",
    "}"
   ]
  },
  {
   "cell_type": "code",
   "execution_count": 2,
   "metadata": {
    "ExecuteTime": {
     "end_time": "2020-02-23T07:57:11.513720Z",
     "start_time": "2020-02-23T07:57:10.547181Z"
    }
   },
   "outputs": [
    {
     "name": "stdout",
     "output_type": "stream",
     "text": [
      "Extracted dataset shape: (1496, 4)\n"
     ]
    }
   ],
   "source": [
    "train_loader, test_loader, train_df, test_df = feature_dict_loader(para_dict)"
   ]
  },
  {
   "cell_type": "markdown",
   "metadata": {},
   "source": [
    "## pytorch model training"
   ]
  },
  {
   "cell_type": "code",
   "execution_count": 6,
   "metadata": {
    "ExecuteTime": {
     "end_time": "2020-02-23T08:29:28.164299Z",
     "start_time": "2020-02-23T08:29:28.158839Z"
    }
   },
   "outputs": [
    {
     "data": {
      "text/plain": [
       "12.0"
      ]
     },
     "execution_count": 6,
     "metadata": {},
     "output_type": "execute_result"
    }
   ],
   "source": [
    "384 / 32."
   ]
  },
  {
   "cell_type": "code",
   "execution_count": null,
   "metadata": {
    "collapsed": true
   },
   "outputs": [],
   "source": []
  },
  {
   "cell_type": "code",
   "execution_count": null,
   "metadata": {
    "collapsed": true
   },
   "outputs": [],
   "source": []
  }
 ],
 "metadata": {
  "kernelspec": {
   "display_name": "pytorch",
   "language": "python",
   "name": "pytorch"
  },
  "language_info": {
   "codemirror_mode": {
    "name": "ipython",
    "version": 3
   },
   "file_extension": ".py",
   "mimetype": "text/x-python",
   "name": "python",
   "nbconvert_exporter": "python",
   "pygments_lexer": "ipython3",
   "version": "3.7.4"
  },
  "toc": {
   "base_numbering": 1,
   "nav_menu": {},
   "number_sections": true,
   "sideBar": true,
   "skip_h1_title": false,
   "title_cell": "Table of Contents",
   "title_sidebar": "Contents",
   "toc_cell": false,
   "toc_position": {},
   "toc_section_display": true,
   "toc_window_display": false
  },
  "varInspector": {
   "cols": {
    "lenName": 16,
    "lenType": 16,
    "lenVar": 40
   },
   "kernels_config": {
    "python": {
     "delete_cmd_postfix": "",
     "delete_cmd_prefix": "del ",
     "library": "var_list.py",
     "varRefreshCmd": "print(var_dic_list())"
    },
    "r": {
     "delete_cmd_postfix": ") ",
     "delete_cmd_prefix": "rm(",
     "library": "var_list.r",
     "varRefreshCmd": "cat(var_dic_list()) "
    }
   },
   "types_to_exclude": [
    "module",
    "function",
    "builtin_function_or_method",
    "instance",
    "_Feature"
   ],
   "window_display": false
  }
 },
 "nbformat": 4,
 "nbformat_minor": 2
}
